{
  "nbformat": 4,
  "nbformat_minor": 0,
  "metadata": {
    "colab": {
      "provenance": []
    },
    "kernelspec": {
      "name": "python3",
      "display_name": "Python 3"
    },
    "language_info": {
      "name": "python"
    }
  },
  "cells": [
    {
      "cell_type": "markdown",
      "source": [
        "**Combating Hate Speech Using NLP and Machine Learning**\n",
        "\n",
        "**Objective**: Using NLP and ML, create a model to identify hate speech in Twitter.\n",
        "\n",
        "**Problem Statement:** Twitter is one of the biggest platform where anybody and everybody can have their views heard. Some of these spread hate and negativity. Twitter is wary of its platform being used as a medium to spread hate.\n",
        "You are a data scientist at Twitter, and you will help Twitter in identifying the tweets with hate speech and removing them from the platform. You will use NLP techniques, perform specific cleanup for tweets data, and make a robust model.\n",
        "\n",
        "**Domain:** Social Media\n",
        "\n",
        "**Analysis to be Done:** Clean up tweets and build a classification model by using NLP techniques, cleanup specific for tweets data, regularization and hyperparameter tuning using stratified K-fold and cross validation to get the best model.\n",
        "\n",
        "**Content:**\n",
        "id: identifier number of the tweet\n",
        "Label: 0(non-hate)/1(hate)\n",
        "Tweet: the text in the tweet\n",
        "\n",
        "**Tasks:**\n",
        "1. Load the tweets file using read_csv function from Pandas Package.\n",
        "2. Get the tweets into a list for easy text cleanup and manipulation.\n",
        "3. To cleanup:\n",
        "          a. Normalize the casing.\n",
        "          b. Using regular expressions, remove user handles. These begin with'@'\n",
        "          c. Using regular expressions, remove URLs.\n",
        "          d. Using TweetTokenizer from NLTK, tokenize the tweets into individual terms.\n",
        "          e. Remove stop words.\n",
        "          f. Remove redundant terms like 'amp','rt' etc.\n",
        "          g. Remove '#' symbols from the tweet while retaining the term.\n",
        "4. Extra cleanup by removing terms with a length of 1.\n",
        "5. Check out the top terms in the tweets:\n",
        "       a. First, get all the tokenized terms into one large list.\n",
        "       b. Use the counter and find the 10 most common terms.\n",
        "6. Data formatting for predictive modeling:\n",
        "        a. Join the tokens back to form strings. This will be required for the vectorizers.\n",
        "        b. Assign x and y.\n",
        "        c. Perform train_test_split using sklearn.\n",
        "7. We will TF-IDF values for the terms as a feature to get into a vector space model.\n",
        "         a. Import TF-IDF vectorizer from sklearn.\n",
        "         b. Instantiate with a maximum of 5000 terms in your vocabulary.\n",
        "         c. Fit and apply on the train set.\n",
        "         d. Apply on the test set.\n",
        "8. Model building: Ordinary Logistic Regression\n",
        "         a. Instantiate Logistic Regression from sklearn with default parameters.\n",
        "         b. Fit into the train data.\n",
        "         c. Make predictions for the train and the test set.\n",
        "9. Model evaluation: Accuracy, recall, and f1 score.\n",
        "         a. Report the accuracy on the train set.\n",
        "         b. Report the recall on the train set: decent hight or low.\n",
        "         c. Get the f1 score on the train set.\n",
        "10. Train again with the adjustment and evaluate.\n",
        "        a. Train the model on the train set.\n",
        "        b. Evaluate the predictions on the train set: accuracy,recall and f1 score.\n",
        "11. Regularization and Hyperparameter tuning:\n",
        "          a. Import GridSearch and StratifiedKFold because of class imbalance.\n",
        "          b. Provide the parameter grid to choose for 'C' and 'penalty' parameters.\n",
        "          c. Use a balanced class weight while instantiating the logistic regression.\n",
        "12. Find the parameters with the best recall in cross validation.\n",
        "          a. Choose 'recall' as the metric for scoring.\n",
        "          b. Choose stratified 4 fold cross validation scheme.\n",
        "          c. Fit into the train set.\n",
        "13. What are the best parameters?\n",
        "14. Predict and evaluate using the best estimator.\n",
        "          a. Use the best estimator from the grid search to make predictions on the test set.\n",
        "          b. What is the recall on the on the test set for the toxic comments?\n",
        "          c. What is the f1 score?\n"
      ],
      "metadata": {
        "id": "YFoiY4EuxzSU"
      }
    },
    {
      "cell_type": "code",
      "execution_count": null,
      "metadata": {
        "id": "ocfBpqD5os28"
      },
      "outputs": [],
      "source": [
        "import pandas as pd\n",
        "import numpy as np\n",
        "import os, re"
      ]
    },
    {
      "cell_type": "markdown",
      "source": [
        " Read the CSV using Pandas"
      ],
      "metadata": {
        "id": "qgqtXjtBWT7C"
      }
    },
    {
      "cell_type": "code",
      "source": [
        "inp_tweets0=pd.read_csv(\"Tweets_USA.csv\")\n",
        "inp_tweets0.head()\n"
      ],
      "metadata": {
        "colab": {
          "base_uri": "https://localhost:8080/",
          "height": 206
        },
        "id": "byBBMLdfwL7j",
        "outputId": "e280e397-abf5-41ef-ae30-66967538263f"
      },
      "execution_count": null,
      "outputs": [
        {
          "output_type": "execute_result",
          "data": {
            "text/plain": [
              "   id  label                                              tweet\n",
              "0   1      0   @user when a father is dysfunctional and is s...\n",
              "1   2      0  @user @user thanks for #lyft credit i can't us...\n",
              "2   3      0                                bihday your majesty\n",
              "3   4      0  #model   i love u take with u all the time in ...\n",
              "4   5      0             factsguide: society now    #motivation"
            ],
            "text/html": [
              "\n",
              "  <div id=\"df-dcefba02-f4db-4421-998b-23b6fefe006a\">\n",
              "    <div class=\"colab-df-container\">\n",
              "      <div>\n",
              "<style scoped>\n",
              "    .dataframe tbody tr th:only-of-type {\n",
              "        vertical-align: middle;\n",
              "    }\n",
              "\n",
              "    .dataframe tbody tr th {\n",
              "        vertical-align: top;\n",
              "    }\n",
              "\n",
              "    .dataframe thead th {\n",
              "        text-align: right;\n",
              "    }\n",
              "</style>\n",
              "<table border=\"1\" class=\"dataframe\">\n",
              "  <thead>\n",
              "    <tr style=\"text-align: right;\">\n",
              "      <th></th>\n",
              "      <th>id</th>\n",
              "      <th>label</th>\n",
              "      <th>tweet</th>\n",
              "    </tr>\n",
              "  </thead>\n",
              "  <tbody>\n",
              "    <tr>\n",
              "      <th>0</th>\n",
              "      <td>1</td>\n",
              "      <td>0</td>\n",
              "      <td>@user when a father is dysfunctional and is s...</td>\n",
              "    </tr>\n",
              "    <tr>\n",
              "      <th>1</th>\n",
              "      <td>2</td>\n",
              "      <td>0</td>\n",
              "      <td>@user @user thanks for #lyft credit i can't us...</td>\n",
              "    </tr>\n",
              "    <tr>\n",
              "      <th>2</th>\n",
              "      <td>3</td>\n",
              "      <td>0</td>\n",
              "      <td>bihday your majesty</td>\n",
              "    </tr>\n",
              "    <tr>\n",
              "      <th>3</th>\n",
              "      <td>4</td>\n",
              "      <td>0</td>\n",
              "      <td>#model   i love u take with u all the time in ...</td>\n",
              "    </tr>\n",
              "    <tr>\n",
              "      <th>4</th>\n",
              "      <td>5</td>\n",
              "      <td>0</td>\n",
              "      <td>factsguide: society now    #motivation</td>\n",
              "    </tr>\n",
              "  </tbody>\n",
              "</table>\n",
              "</div>\n",
              "      <button class=\"colab-df-convert\" onclick=\"convertToInteractive('df-dcefba02-f4db-4421-998b-23b6fefe006a')\"\n",
              "              title=\"Convert this dataframe to an interactive table.\"\n",
              "              style=\"display:none;\">\n",
              "        \n",
              "  <svg xmlns=\"http://www.w3.org/2000/svg\" height=\"24px\"viewBox=\"0 0 24 24\"\n",
              "       width=\"24px\">\n",
              "    <path d=\"M0 0h24v24H0V0z\" fill=\"none\"/>\n",
              "    <path d=\"M18.56 5.44l.94 2.06.94-2.06 2.06-.94-2.06-.94-.94-2.06-.94 2.06-2.06.94zm-11 1L8.5 8.5l.94-2.06 2.06-.94-2.06-.94L8.5 2.5l-.94 2.06-2.06.94zm10 10l.94 2.06.94-2.06 2.06-.94-2.06-.94-.94-2.06-.94 2.06-2.06.94z\"/><path d=\"M17.41 7.96l-1.37-1.37c-.4-.4-.92-.59-1.43-.59-.52 0-1.04.2-1.43.59L10.3 9.45l-7.72 7.72c-.78.78-.78 2.05 0 2.83L4 21.41c.39.39.9.59 1.41.59.51 0 1.02-.2 1.41-.59l7.78-7.78 2.81-2.81c.8-.78.8-2.07 0-2.86zM5.41 20L4 18.59l7.72-7.72 1.47 1.35L5.41 20z\"/>\n",
              "  </svg>\n",
              "      </button>\n",
              "      \n",
              "  <style>\n",
              "    .colab-df-container {\n",
              "      display:flex;\n",
              "      flex-wrap:wrap;\n",
              "      gap: 12px;\n",
              "    }\n",
              "\n",
              "    .colab-df-convert {\n",
              "      background-color: #E8F0FE;\n",
              "      border: none;\n",
              "      border-radius: 50%;\n",
              "      cursor: pointer;\n",
              "      display: none;\n",
              "      fill: #1967D2;\n",
              "      height: 32px;\n",
              "      padding: 0 0 0 0;\n",
              "      width: 32px;\n",
              "    }\n",
              "\n",
              "    .colab-df-convert:hover {\n",
              "      background-color: #E2EBFA;\n",
              "      box-shadow: 0px 1px 2px rgba(60, 64, 67, 0.3), 0px 1px 3px 1px rgba(60, 64, 67, 0.15);\n",
              "      fill: #174EA6;\n",
              "    }\n",
              "\n",
              "    [theme=dark] .colab-df-convert {\n",
              "      background-color: #3B4455;\n",
              "      fill: #D2E3FC;\n",
              "    }\n",
              "\n",
              "    [theme=dark] .colab-df-convert:hover {\n",
              "      background-color: #434B5C;\n",
              "      box-shadow: 0px 1px 3px 1px rgba(0, 0, 0, 0.15);\n",
              "      filter: drop-shadow(0px 1px 2px rgba(0, 0, 0, 0.3));\n",
              "      fill: #FFFFFF;\n",
              "    }\n",
              "  </style>\n",
              "\n",
              "      <script>\n",
              "        const buttonEl =\n",
              "          document.querySelector('#df-dcefba02-f4db-4421-998b-23b6fefe006a button.colab-df-convert');\n",
              "        buttonEl.style.display =\n",
              "          google.colab.kernel.accessAllowed ? 'block' : 'none';\n",
              "\n",
              "        async function convertToInteractive(key) {\n",
              "          const element = document.querySelector('#df-dcefba02-f4db-4421-998b-23b6fefe006a');\n",
              "          const dataTable =\n",
              "            await google.colab.kernel.invokeFunction('convertToInteractive',\n",
              "                                                     [key], {});\n",
              "          if (!dataTable) return;\n",
              "\n",
              "          const docLinkHtml = 'Like what you see? Visit the ' +\n",
              "            '<a target=\"_blank\" href=https://colab.research.google.com/notebooks/data_table.ipynb>data table notebook</a>'\n",
              "            + ' to learn more about interactive tables.';\n",
              "          element.innerHTML = '';\n",
              "          dataTable['output_type'] = 'display_data';\n",
              "          await google.colab.output.renderOutput(dataTable, element);\n",
              "          const docLink = document.createElement('div');\n",
              "          docLink.innerHTML = docLinkHtml;\n",
              "          element.appendChild(docLink);\n",
              "        }\n",
              "      </script>\n",
              "    </div>\n",
              "  </div>\n",
              "  "
            ]
          },
          "metadata": {},
          "execution_count": 3
        }
      ]
    },
    {
      "cell_type": "code",
      "source": [
        "inp_tweets0.label.value_counts(normalize=True)"
      ],
      "metadata": {
        "colab": {
          "base_uri": "https://localhost:8080/"
        },
        "id": "c5H61tcLxDl_",
        "outputId": "ebd5bb45-126c-41aa-cc0d-caef64fb370f"
      },
      "execution_count": null,
      "outputs": [
        {
          "output_type": "execute_result",
          "data": {
            "text/plain": [
              "0    0.929854\n",
              "1    0.070146\n",
              "Name: label, dtype: float64"
            ]
          },
          "metadata": {},
          "execution_count": 4
        }
      ]
    },
    {
      "cell_type": "markdown",
      "source": [
        "So we have around 7% of hate tweets in this data"
      ],
      "metadata": {
        "id": "lv4iJHXmWm1q"
      }
    },
    {
      "cell_type": "code",
      "source": [
        "inp_tweets0.tweet.sample().values[0]"
      ],
      "metadata": {
        "colab": {
          "base_uri": "https://localhost:8080/",
          "height": 35
        },
        "id": "yCxZcxDdxyZD",
        "outputId": "c71311a1-9eed-4a40-9c0b-dee80bf6aa88"
      },
      "execution_count": null,
      "outputs": [
        {
          "output_type": "execute_result",
          "data": {
            "text/plain": [
              "'on the train to london for the day   #familydays #dayout'"
            ],
            "application/vnd.google.colaboratory.intrinsic+json": {
              "type": "string"
            }
          },
          "metadata": {},
          "execution_count": 5
        }
      ]
    },
    {
      "cell_type": "markdown",
      "source": [
        "get the tweets into a list, for easy text clean up and manipulation"
      ],
      "metadata": {
        "id": "Ur-ix5Kox5WN"
      }
    },
    {
      "cell_type": "code",
      "source": [
        "tweets0 = inp_tweets0.tweet.values\n",
        "#getting them into a list"
      ],
      "metadata": {
        "id": "9d1EReBVx4E-"
      },
      "execution_count": null,
      "outputs": []
    },
    {
      "cell_type": "code",
      "source": [
        "len(tweets0)"
      ],
      "metadata": {
        "colab": {
          "base_uri": "https://localhost:8080/"
        },
        "id": "SlcjFhtbyU6J",
        "outputId": "9c7568c8-79d4-411d-d227-be94d9235bbe"
      },
      "execution_count": null,
      "outputs": [
        {
          "output_type": "execute_result",
          "data": {
            "text/plain": [
              "31962"
            ]
          },
          "metadata": {},
          "execution_count": 7
        }
      ]
    },
    {
      "cell_type": "code",
      "source": [
        "tweets0[:5]"
      ],
      "metadata": {
        "colab": {
          "base_uri": "https://localhost:8080/"
        },
        "id": "Qy2JNBZFyW6b",
        "outputId": "ac50c0f5-753b-4c2e-ff6d-1b1df0973082"
      },
      "execution_count": null,
      "outputs": [
        {
          "output_type": "execute_result",
          "data": {
            "text/plain": [
              "array([' @user when a father is dysfunctional and is so selfish he drags his kids into his dysfunction.   #run',\n",
              "       \"@user @user thanks for #lyft credit i can't use cause they don't offer wheelchair vans in pdx.    #disapointed #getthanked\",\n",
              "       '  bihday your majesty',\n",
              "       '#model   i love u take with u all the time in urð\\x9f\\x93±!!! ð\\x9f\\x98\\x99ð\\x9f\\x98\\x8eð\\x9f\\x91\\x84ð\\x9f\\x91\\x85ð\\x9f\\x92¦ð\\x9f\\x92¦ð\\x9f\\x92¦  ',\n",
              "       ' factsguide: society now    #motivation'], dtype=object)"
            ]
          },
          "metadata": {},
          "execution_count": 8
        }
      ]
    },
    {
      "cell_type": "markdown",
      "source": [
        "cleaning up the data\n",
        "So as we can see here, The tweets contain:\n",
        "URLs\n",
        "Hashtags\n",
        "user handles\n",
        "'RT'"
      ],
      "metadata": {
        "id": "fLDoV3NZycJf"
      }
    },
    {
      "cell_type": "markdown",
      "source": [
        "Normalising the casing"
      ],
      "metadata": {
        "id": "ADYw_jzuZMEV"
      }
    },
    {
      "cell_type": "code",
      "source": [
        "tweets_lower = [txt.lower() for txt in tweets0]"
      ],
      "metadata": {
        "id": "p1Y7DfjYyZPk"
      },
      "execution_count": null,
      "outputs": []
    },
    {
      "cell_type": "code",
      "source": [
        "tweets_lower[:5]"
      ],
      "metadata": {
        "colab": {
          "base_uri": "https://localhost:8080/"
        },
        "id": "q6UVnoz2ymKv",
        "outputId": "ae49e898-e564-427c-e4a0-79e2cfbfda11"
      },
      "execution_count": null,
      "outputs": [
        {
          "output_type": "execute_result",
          "data": {
            "text/plain": [
              "[' @user when a father is dysfunctional and is so selfish he drags his kids into his dysfunction.   #run',\n",
              " \"@user @user thanks for #lyft credit i can't use cause they don't offer wheelchair vans in pdx.    #disapointed #getthanked\",\n",
              " '  bihday your majesty',\n",
              " '#model   i love u take with u all the time in urð\\x9f\\x93±!!! ð\\x9f\\x98\\x99ð\\x9f\\x98\\x8eð\\x9f\\x91\\x84ð\\x9f\\x91\\x85ð\\x9f\\x92¦ð\\x9f\\x92¦ð\\x9f\\x92¦  ',\n",
              " ' factsguide: society now    #motivation']"
            ]
          },
          "metadata": {},
          "execution_count": 10
        }
      ]
    },
    {
      "cell_type": "markdown",
      "source": [
        "Remove uswer handels starting with '@'"
      ],
      "metadata": {
        "id": "5oz3Ca7sy0Bk"
      }
    },
    {
      "cell_type": "code",
      "source": [
        "import re"
      ],
      "metadata": {
        "id": "ThYscstryyx-"
      },
      "execution_count": null,
      "outputs": []
    },
    {
      "cell_type": "code",
      "source": [
        "re.sub(\"@\\w+\",\"\", \"@Rahim this course rocks! http://rahimbaig.com/ai\")"
      ],
      "metadata": {
        "colab": {
          "base_uri": "https://localhost:8080/",
          "height": 35
        },
        "id": "hOt047Vcy4iB",
        "outputId": "9f2cdfc3-ac39-40f9-fbac-b93ae529a44c"
      },
      "execution_count": null,
      "outputs": [
        {
          "output_type": "execute_result",
          "data": {
            "text/plain": [
              "' this course rocks! http://rahimbaig.com/ai'"
            ],
            "application/vnd.google.colaboratory.intrinsic+json": {
              "type": "string"
            }
          },
          "metadata": {},
          "execution_count": 12
        }
      ]
    },
    {
      "cell_type": "code",
      "source": [
        "tweets_nouser = [re.sub(\"@\\w+\",\"\",twt) for twt in tweets_lower]"
      ],
      "metadata": {
        "id": "2yyYeS2ny9Yg"
      },
      "execution_count": null,
      "outputs": []
    },
    {
      "cell_type": "code",
      "source": [
        "tweets_nouser[:5]"
      ],
      "metadata": {
        "colab": {
          "base_uri": "https://localhost:8080/"
        },
        "id": "uSzxXBw_zHwf",
        "outputId": "fd5e418b-5b00-4992-968b-5156899335d2"
      },
      "execution_count": null,
      "outputs": [
        {
          "output_type": "execute_result",
          "data": {
            "text/plain": [
              "['  when a father is dysfunctional and is so selfish he drags his kids into his dysfunction.   #run',\n",
              " \"  thanks for #lyft credit i can't use cause they don't offer wheelchair vans in pdx.    #disapointed #getthanked\",\n",
              " '  bihday your majesty',\n",
              " '#model   i love u take with u all the time in urð\\x9f\\x93±!!! ð\\x9f\\x98\\x99ð\\x9f\\x98\\x8eð\\x9f\\x91\\x84ð\\x9f\\x91\\x85ð\\x9f\\x92¦ð\\x9f\\x92¦ð\\x9f\\x92¦  ',\n",
              " ' factsguide: society now    #motivation']"
            ]
          },
          "metadata": {},
          "execution_count": 14
        }
      ]
    },
    {
      "cell_type": "markdown",
      "source": [
        "Now it looks a little bit cleaner as handels are removed"
      ],
      "metadata": {
        "id": "qJpGcbyQzO_V"
      }
    },
    {
      "cell_type": "markdown",
      "source": [
        "Remove URLs"
      ],
      "metadata": {
        "id": "ou5nupG2zrRu"
      }
    },
    {
      "cell_type": "code",
      "source": [
        "re.sub(\"\\w+://\\S+\",\"\", \"@Rahim this course rocks! http://amazon.com/ai\")"
      ],
      "metadata": {
        "colab": {
          "base_uri": "https://localhost:8080/",
          "height": 35
        },
        "id": "PSO2_ED1zOUh",
        "outputId": "6c1f4313-cbf6-46b4-c025-6cd168689a03"
      },
      "execution_count": null,
      "outputs": [
        {
          "output_type": "execute_result",
          "data": {
            "text/plain": [
              "'@Rahim this course rocks! '"
            ],
            "application/vnd.google.colaboratory.intrinsic+json": {
              "type": "string"
            }
          },
          "metadata": {},
          "execution_count": 65
        }
      ]
    },
    {
      "cell_type": "code",
      "source": [
        "tweets_nourl = [re.sub(\"\\w+://\\S+\",\"\", twt)\n",
        "\n",
        "                for twt in tweets_nouser]"
      ],
      "metadata": {
        "id": "IHO_Avy0zLhh"
      },
      "execution_count": null,
      "outputs": []
    },
    {
      "cell_type": "code",
      "source": [
        "tweets_nourl[:5]"
      ],
      "metadata": {
        "colab": {
          "base_uri": "https://localhost:8080/"
        },
        "id": "bkTQMUCiz_jU",
        "outputId": "8b9185f5-c8ee-44f6-d65c-a8e9ab6a3464"
      },
      "execution_count": null,
      "outputs": [
        {
          "output_type": "execute_result",
          "data": {
            "text/plain": [
              "['  when a father is dysfunctional and is so selfish he drags his kids into his dysfunction.   #run',\n",
              " \"  thanks for #lyft credit i can't use cause they don't offer wheelchair vans in pdx.    #disapointed #getthanked\",\n",
              " '  bihday your majesty',\n",
              " '#model   i love u take with u all the time in urð\\x9f\\x93±!!! ð\\x9f\\x98\\x99ð\\x9f\\x98\\x8eð\\x9f\\x91\\x84ð\\x9f\\x91\\x85ð\\x9f\\x92¦ð\\x9f\\x92¦ð\\x9f\\x92¦  ',\n",
              " ' factsguide: society now    #motivation']"
            ]
          },
          "metadata": {},
          "execution_count": 17
        }
      ]
    },
    {
      "cell_type": "markdown",
      "source": [
        "Tokenizing using Tweet from NLTK"
      ],
      "metadata": {
        "id": "zFPnfGu00HRw"
      }
    },
    {
      "cell_type": "code",
      "source": [
        "from nltk.tokenize import TweetTokenizer"
      ],
      "metadata": {
        "id": "ZE_LlYuN0E_l"
      },
      "execution_count": null,
      "outputs": []
    },
    {
      "cell_type": "code",
      "source": [
        "tkn = TweetTokenizer()"
      ],
      "metadata": {
        "id": "Ic9Q-q6r0Uo2"
      },
      "execution_count": null,
      "outputs": []
    },
    {
      "cell_type": "code",
      "source": [
        "print(tkn.tokenize(tweets_nourl[0]))"
      ],
      "metadata": {
        "colab": {
          "base_uri": "https://localhost:8080/"
        },
        "id": "VdXdpb360YlY",
        "outputId": "c553810e-d854-44d3-ebe8-e2eac6d1d2ea"
      },
      "execution_count": null,
      "outputs": [
        {
          "output_type": "stream",
          "name": "stdout",
          "text": [
            "['when', 'a', 'father', 'is', 'dysfunctional', 'and', 'is', 'so', 'selfish', 'he', 'drags', 'his', 'kids', 'into', 'his', 'dysfunction', '.', '#run']\n"
          ]
        }
      ]
    },
    {
      "cell_type": "code",
      "source": [
        "tweet_token = [tkn.tokenize(sent) for sent in tweets_nourl]\n",
        "print(tweet_token[31000])"
      ],
      "metadata": {
        "colab": {
          "base_uri": "https://localhost:8080/"
        },
        "id": "8mopUHcZ0gzy",
        "outputId": "b210e45b-6a92-4175-cda7-827ef5af57a0"
      },
      "execution_count": null,
      "outputs": [
        {
          "output_type": "stream",
          "name": "stdout",
          "text": [
            "['the', 'excitement', 'of', 'ordering', 'a', 'new', 'pole', 'outfit', '#poledance', '#poler', '#poledancer', '#poleoutfit', '#polefitness', '#healthy']\n"
          ]
        }
      ]
    },
    {
      "cell_type": "markdown",
      "source": [
        "Remove stop words and punctuation"
      ],
      "metadata": {
        "id": "ukeMIF7u05NW"
      }
    },
    {
      "cell_type": "code",
      "source": [
        "# remove hastags also\n",
        "from nltk.corpus import stopwords\n",
        "from string import punctuation\n",
        "import nltk\n",
        "nltk.download('stopwords')"
      ],
      "metadata": {
        "colab": {
          "base_uri": "https://localhost:8080/"
        },
        "id": "Fd5-9tXq02Jl",
        "outputId": "d617a600-90c6-4451-e6c6-ec114dd88667"
      },
      "execution_count": null,
      "outputs": [
        {
          "output_type": "stream",
          "name": "stderr",
          "text": [
            "[nltk_data] Downloading package stopwords to /root/nltk_data...\n",
            "[nltk_data]   Unzipping corpora/stopwords.zip.\n"
          ]
        },
        {
          "output_type": "execute_result",
          "data": {
            "text/plain": [
              "True"
            ]
          },
          "metadata": {},
          "execution_count": 22
        }
      ]
    },
    {
      "cell_type": "code",
      "source": [
        "stop_nltk = stopwords.words(\"english\")\n",
        "stop_punct = list(punctuation)\n",
        "stop_punct"
      ],
      "metadata": {
        "colab": {
          "base_uri": "https://localhost:8080/"
        },
        "id": "cQvprghG1iJg",
        "outputId": "c5751ec9-b1dc-4c6d-b44d-8b5755d2353d"
      },
      "execution_count": null,
      "outputs": [
        {
          "output_type": "execute_result",
          "data": {
            "text/plain": [
              "['!',\n",
              " '\"',\n",
              " '#',\n",
              " '$',\n",
              " '%',\n",
              " '&',\n",
              " \"'\",\n",
              " '(',\n",
              " ')',\n",
              " '*',\n",
              " '+',\n",
              " ',',\n",
              " '-',\n",
              " '.',\n",
              " '/',\n",
              " ':',\n",
              " ';',\n",
              " '<',\n",
              " '=',\n",
              " '>',\n",
              " '?',\n",
              " '@',\n",
              " '[',\n",
              " '\\\\',\n",
              " ']',\n",
              " '^',\n",
              " '_',\n",
              " '`',\n",
              " '{',\n",
              " '|',\n",
              " '}',\n",
              " '~']"
            ]
          },
          "metadata": {},
          "execution_count": 23
        }
      ]
    },
    {
      "cell_type": "code",
      "source": [
        "stop_punct.extend(['...','``',\"''\",\"..\"])"
      ],
      "metadata": {
        "id": "rBUHssrS1zVe"
      },
      "execution_count": null,
      "outputs": []
    },
    {
      "cell_type": "code",
      "source": [
        "stop_context = ['rt','amp']"
      ],
      "metadata": {
        "id": "3RZDNojq21t_"
      },
      "execution_count": null,
      "outputs": []
    },
    {
      "cell_type": "code",
      "source": [
        "stop_final = stop_nltk + stop_punct + stop_context"
      ],
      "metadata": {
        "id": "ykojS5ZA287D"
      },
      "execution_count": null,
      "outputs": []
    },
    {
      "cell_type": "markdown",
      "source": [
        "Function to\n",
        "\n",
        "1.remove stop words from a single tokenized sentence\n",
        "\n",
        "2.remove #s\n",
        "\n",
        "3.remove terms with lenght=1"
      ],
      "metadata": {
        "id": "Is1kuGXv3PE9"
      }
    },
    {
      "cell_type": "code",
      "source": [
        "def del_stop(sent):\n",
        "    return [re.sub(\"#\",\"\",term) for term in sent if ((term not in stop_final) & (len(term)>1))]"
      ],
      "metadata": {
        "id": "yQ3sCQ3n3GFH"
      },
      "execution_count": null,
      "outputs": []
    },
    {
      "cell_type": "code",
      "source": [
        "del_stop(tweet_token[4])\n"
      ],
      "metadata": {
        "colab": {
          "base_uri": "https://localhost:8080/"
        },
        "id": "xAWrybK73yyZ",
        "outputId": "81fce9c5-74c6-4395-dfdd-5723020b1191"
      },
      "execution_count": null,
      "outputs": [
        {
          "output_type": "execute_result",
          "data": {
            "text/plain": [
              "['factsguide', 'society', 'motivation']"
            ]
          },
          "metadata": {},
          "execution_count": 28
        }
      ]
    },
    {
      "cell_type": "code",
      "source": [
        "tweets_clean = [del_stop(tweet) for tweet in tweet_token]"
      ],
      "metadata": {
        "id": "MRUUgOkH4IGG"
      },
      "execution_count": null,
      "outputs": []
    },
    {
      "cell_type": "markdown",
      "source": [
        "Check the top terms in the tweets"
      ],
      "metadata": {
        "id": "xsXrYMgn4YXK"
      }
    },
    {
      "cell_type": "code",
      "source": [
        "from collections import Counter"
      ],
      "metadata": {
        "id": "ypXoZkmQ4SkL"
      },
      "execution_count": null,
      "outputs": []
    },
    {
      "cell_type": "code",
      "source": [
        "term_list = []\n",
        "for tweet in tweets_clean:\n",
        "  term_list.extend(tweet)"
      ],
      "metadata": {
        "id": "xo1GL1ms4fTh"
      },
      "execution_count": null,
      "outputs": []
    },
    {
      "cell_type": "code",
      "source": [
        "res = Counter(term_list)\n",
        "res.most_common(10)"
      ],
      "metadata": {
        "colab": {
          "base_uri": "https://localhost:8080/"
        },
        "id": "XI-jTDq34zo8",
        "outputId": "a53d9a13-35a1-442f-8d5c-f220c16c8129"
      },
      "execution_count": null,
      "outputs": [
        {
          "output_type": "execute_result",
          "data": {
            "text/plain": [
              "[('love', 2748),\n",
              " ('day', 2276),\n",
              " ('happy', 1684),\n",
              " ('time', 1131),\n",
              " ('life', 1118),\n",
              " ('like', 1047),\n",
              " (\"i'm\", 1018),\n",
              " ('today', 1013),\n",
              " ('new', 994),\n",
              " ('thankful', 946)]"
            ]
          },
          "metadata": {},
          "execution_count": 32
        }
      ]
    },
    {
      "cell_type": "markdown",
      "source": [
        "Data formatting for predictive modelling\n",
        "\n",
        "Join the tokens back into strings"
      ],
      "metadata": {
        "id": "4RKV03-25ekz"
      }
    },
    {
      "cell_type": "code",
      "source": [
        "tweets_clean[30000]"
      ],
      "metadata": {
        "colab": {
          "base_uri": "https://localhost:8080/"
        },
        "id": "PX5ixKig4-Dd",
        "outputId": "120024b2-4836-4306-c9a1-f69eec5084be"
      },
      "execution_count": null,
      "outputs": [
        {
          "output_type": "execute_result",
          "data": {
            "text/plain": [
              "['never', 'msg', 'first', 'dun', 'msg', 'first', 'disappointed']"
            ]
          },
          "metadata": {},
          "execution_count": 33
        }
      ]
    },
    {
      "cell_type": "code",
      "source": [
        "tweets_clean = [\"\".join(tweet) for tweet in tweets_clean]"
      ],
      "metadata": {
        "id": "OArx_2lD5vd5"
      },
      "execution_count": null,
      "outputs": []
    },
    {
      "cell_type": "code",
      "source": [
        "tweets_clean[30000]"
      ],
      "metadata": {
        "colab": {
          "base_uri": "https://localhost:8080/",
          "height": 35
        },
        "id": "iFsXP6ym58St",
        "outputId": "84b4b5ce-4326-446a-9001-04132d398615"
      },
      "execution_count": null,
      "outputs": [
        {
          "output_type": "execute_result",
          "data": {
            "text/plain": [
              "'nevermsgfirstdunmsgfirstdisappointed'"
            ],
            "application/vnd.google.colaboratory.intrinsic+json": {
              "type": "string"
            }
          },
          "metadata": {},
          "execution_count": 35
        }
      ]
    },
    {
      "cell_type": "markdown",
      "source": [
        "Separate X and Y and perform train test split, 70-30"
      ],
      "metadata": {
        "id": "nKnnyZ2r6L04"
      }
    },
    {
      "cell_type": "code",
      "source": [
        "len(tweets_clean)"
      ],
      "metadata": {
        "colab": {
          "base_uri": "https://localhost:8080/"
        },
        "id": "ZsTPo5iy5_HK",
        "outputId": "992f5084-8cdc-4e33-ba01-cdf2dc3d47f1"
      },
      "execution_count": null,
      "outputs": [
        {
          "output_type": "execute_result",
          "data": {
            "text/plain": [
              "31962"
            ]
          },
          "metadata": {},
          "execution_count": 36
        }
      ]
    },
    {
      "cell_type": "code",
      "source": [
        "len(inp_tweets0.label)"
      ],
      "metadata": {
        "colab": {
          "base_uri": "https://localhost:8080/"
        },
        "id": "2lIFhsjo6Yno",
        "outputId": "b8e830a7-34fc-45e9-ef4b-77391993c454"
      },
      "execution_count": null,
      "outputs": [
        {
          "output_type": "execute_result",
          "data": {
            "text/plain": [
              "31962"
            ]
          },
          "metadata": {},
          "execution_count": 37
        }
      ]
    },
    {
      "cell_type": "code",
      "source": [
        "X = tweets_clean\n",
        "y = inp_tweets0.label.values"
      ],
      "metadata": {
        "id": "O6RpoVae6cZY"
      },
      "execution_count": null,
      "outputs": []
    },
    {
      "cell_type": "code",
      "source": [
        "#train test split\n",
        "from sklearn.model_selection import train_test_split\n",
        "X_train,X_test,y_train,y_test=train_test_split(X,y,test_size=0.30,random_state=42)\n",
        "\n"
      ],
      "metadata": {
        "id": "9eiZeB5j6mAN"
      },
      "execution_count": null,
      "outputs": []
    },
    {
      "cell_type": "markdown",
      "source": [
        "Create a document term matrix using count vectorizer"
      ],
      "metadata": {
        "id": "ajMU4osI7EFE"
      }
    },
    {
      "cell_type": "code",
      "source": [
        "from sklearn.feature_extraction.text import TfidfVectorizer"
      ],
      "metadata": {
        "id": "lcZf2pzS6sIT"
      },
      "execution_count": null,
      "outputs": []
    },
    {
      "cell_type": "code",
      "source": [
        "vectorizer = TfidfVectorizer(max_features = 5000)"
      ],
      "metadata": {
        "id": "QgeZM77j7UkQ"
      },
      "execution_count": null,
      "outputs": []
    },
    {
      "cell_type": "code",
      "source": [
        "len(X_train), len(X_test)"
      ],
      "metadata": {
        "colab": {
          "base_uri": "https://localhost:8080/"
        },
        "id": "GcFivZYe7crt",
        "outputId": "32f5a3bc-86e7-4ddc-b912-5a606b3caccb"
      },
      "execution_count": null,
      "outputs": [
        {
          "output_type": "execute_result",
          "data": {
            "text/plain": [
              "(22373, 9589)"
            ]
          },
          "metadata": {},
          "execution_count": 42
        }
      ]
    },
    {
      "cell_type": "code",
      "source": [
        "X_train_bow = vectorizer.fit_transform(X_train)\n",
        "X_test_bow = vectorizer.transform(X_test)\n",
        "\n",
        ""
      ],
      "metadata": {
        "id": "W0yABhAy7lhJ"
      },
      "execution_count": null,
      "outputs": []
    },
    {
      "cell_type": "code",
      "source": [
        "X_train_bow.shape, X_test_bow.shape"
      ],
      "metadata": {
        "colab": {
          "base_uri": "https://localhost:8080/"
        },
        "id": "Lo3cX0QG738O",
        "outputId": "68af3db8-e5b7-4a4b-d825-5e5379ef7ef5"
      },
      "execution_count": null,
      "outputs": [
        {
          "output_type": "execute_result",
          "data": {
            "text/plain": [
              "((22373, 5000), (9589, 5000))"
            ]
          },
          "metadata": {},
          "execution_count": 44
        }
      ]
    },
    {
      "cell_type": "markdown",
      "source": [
        "Model Building: Logistic Model"
      ],
      "metadata": {
        "id": "0weH__AH8CVu"
      }
    },
    {
      "cell_type": "code",
      "source": [
        "from sklearn.linear_model import LogisticRegression"
      ],
      "metadata": {
        "id": "cc28EtcR7_nL"
      },
      "execution_count": null,
      "outputs": []
    },
    {
      "cell_type": "code",
      "source": [
        "logreg = LogisticRegression()"
      ],
      "metadata": {
        "id": "73G8ctwU9MTr"
      },
      "execution_count": null,
      "outputs": []
    },
    {
      "cell_type": "code",
      "source": [
        "logreg.fit(X_train_bow, y_train)"
      ],
      "metadata": {
        "colab": {
          "base_uri": "https://localhost:8080/"
        },
        "id": "LmGe4bKX9VMr",
        "outputId": "f4032b17-2df9-4913-cff9-5b79d7c3da2b"
      },
      "execution_count": null,
      "outputs": [
        {
          "output_type": "execute_result",
          "data": {
            "text/plain": [
              "LogisticRegression()"
            ]
          },
          "metadata": {},
          "execution_count": 47
        }
      ]
    },
    {
      "cell_type": "code",
      "source": [
        "y_train_pred = logreg.predict(X_train_bow)\n",
        "y_test_pred = logreg.predict(X_test_bow)"
      ],
      "metadata": {
        "id": "vsGgVEm59e43"
      },
      "execution_count": null,
      "outputs": []
    },
    {
      "cell_type": "code",
      "source": [
        "from sklearn.metrics import accuracy_score, classification_report"
      ],
      "metadata": {
        "id": "akz6CtQz91S0"
      },
      "execution_count": null,
      "outputs": []
    },
    {
      "cell_type": "code",
      "source": [
        "accuracy_score(y_train, y_train_pred)"
      ],
      "metadata": {
        "colab": {
          "base_uri": "https://localhost:8080/"
        },
        "id": "o0DHNtOS-EIU",
        "outputId": "b46a6aac-ffe7-4c94-b8ba-e8c5cdf3f613"
      },
      "execution_count": null,
      "outputs": [
        {
          "output_type": "execute_result",
          "data": {
            "text/plain": [
              "0.9362177624815626"
            ]
          },
          "metadata": {},
          "execution_count": 50
        }
      ]
    },
    {
      "cell_type": "code",
      "source": [
        "print(classification_report(y_train, y_train_pred))"
      ],
      "metadata": {
        "colab": {
          "base_uri": "https://localhost:8080/"
        },
        "id": "ysoE94wU-KN7",
        "outputId": "b7b4e3df-be66-4dc6-ab34-af6aebdd5476"
      },
      "execution_count": null,
      "outputs": [
        {
          "output_type": "stream",
          "name": "stdout",
          "text": [
            "              precision    recall  f1-score   support\n",
            "\n",
            "           0       0.94      1.00      0.97     20815\n",
            "           1       1.00      0.08      0.16      1558\n",
            "\n",
            "    accuracy                           0.94     22373\n",
            "   macro avg       0.97      0.54      0.56     22373\n",
            "weighted avg       0.94      0.94      0.91     22373\n",
            "\n"
          ]
        }
      ]
    },
    {
      "cell_type": "markdown",
      "source": [
        "Adjusting for class imbalance"
      ],
      "metadata": {
        "id": "8_HOkR8n-40C"
      }
    },
    {
      "cell_type": "code",
      "source": [
        "logreg = LogisticRegression(class_weight=\"balanced\")"
      ],
      "metadata": {
        "id": "U7v5FrAb-Wbj"
      },
      "execution_count": null,
      "outputs": []
    },
    {
      "cell_type": "code",
      "source": [
        "logreg.fit (X_train_bow, y_train)"
      ],
      "metadata": {
        "colab": {
          "base_uri": "https://localhost:8080/"
        },
        "id": "HdG7G-3M_LbM",
        "outputId": "e427669f-c461-4836-f2a5-086131966371"
      },
      "execution_count": null,
      "outputs": [
        {
          "output_type": "execute_result",
          "data": {
            "text/plain": [
              "LogisticRegression(class_weight='balanced')"
            ]
          },
          "metadata": {},
          "execution_count": 53
        }
      ]
    },
    {
      "cell_type": "code",
      "source": [
        "y_train_pred = logreg.predict(X_train_bow)\n",
        "y_test_pred = logreg.predict(X_test_bow)"
      ],
      "metadata": {
        "id": "qpH2dmmw_R6S"
      },
      "execution_count": null,
      "outputs": []
    },
    {
      "cell_type": "code",
      "source": [
        "accuracy_score(y_train, y_train_pred)"
      ],
      "metadata": {
        "colab": {
          "base_uri": "https://localhost:8080/"
        },
        "id": "DHNgW2oe_gkR",
        "outputId": "87f18af0-621c-4a19-95e2-0c9df348d30d"
      },
      "execution_count": null,
      "outputs": [
        {
          "output_type": "execute_result",
          "data": {
            "text/plain": [
              "0.9544540294104501"
            ]
          },
          "metadata": {},
          "execution_count": 55
        }
      ]
    },
    {
      "cell_type": "markdown",
      "source": [
        "Accuracy score get improved after adjusting the imbalance."
      ],
      "metadata": {
        "id": "GNvErVxUNFh2"
      }
    },
    {
      "cell_type": "code",
      "source": [
        "from sklearn.model_selection import GridSearchCV, StratifiedKFold"
      ],
      "metadata": {
        "id": "vD5TJPkx_maD"
      },
      "execution_count": null,
      "outputs": []
    },
    {
      "cell_type": "code",
      "source": [
        "param_grid={\n",
        "    'C':[0.01,0.1,1,10]\n",
        "}"
      ],
      "metadata": {
        "id": "z_5BZtAEAXg6"
      },
      "execution_count": null,
      "outputs": []
    },
    {
      "cell_type": "code",
      "source": [
        "classifier_lr = LogisticRegression(class_weight=\"balance\")"
      ],
      "metadata": {
        "id": "0xj30gj6Amqe"
      },
      "execution_count": null,
      "outputs": []
    },
    {
      "cell_type": "code",
      "source": [
        "# Instantiate the grid search\n",
        "grid_search=GridSearchCV(estimator=classifier_lr,\n",
        "                        param_grid=param_grid,\n",
        "                        cv=StratifiedKFold(4),\n",
        "                        n_jobs=-1, verbose=1,scoring=\"recall\")"
      ],
      "metadata": {
        "id": "2rHVkGhSAj0M"
      },
      "execution_count": null,
      "outputs": []
    },
    {
      "cell_type": "code",
      "source": [
        "grid_search.fit(X_train_bow, y_train)"
      ],
      "metadata": {
        "colab": {
          "base_uri": "https://localhost:8080/"
        },
        "id": "AJ-JluACBI82",
        "outputId": "40ff9442-2ab4-46c8-b76a-a5840ae6f115"
      },
      "execution_count": null,
      "outputs": [
        {
          "output_type": "stream",
          "name": "stdout",
          "text": [
            "Fitting 4 folds for each of 4 candidates, totalling 16 fits\n"
          ]
        },
        {
          "output_type": "stream",
          "name": "stderr",
          "text": [
            "/usr/local/lib/python3.7/dist-packages/sklearn/linear_model/_logistic.py:818: ConvergenceWarning: lbfgs failed to converge (status=1):\n",
            "STOP: TOTAL NO. of ITERATIONS REACHED LIMIT.\n",
            "\n",
            "Increase the number of iterations (max_iter) or scale the data as shown in:\n",
            "    https://scikit-learn.org/stable/modules/preprocessing.html\n",
            "Please also refer to the documentation for alternative solver options:\n",
            "    https://scikit-learn.org/stable/modules/linear_model.html#logistic-regression\n",
            "  extra_warning_msg=_LOGISTIC_SOLVER_CONVERGENCE_MSG,\n"
          ]
        },
        {
          "output_type": "execute_result",
          "data": {
            "text/plain": [
              "GridSearchCV(cv=StratifiedKFold(n_splits=4, random_state=None, shuffle=False),\n",
              "             estimator=LogisticRegression(class_weight='balance'), n_jobs=-1,\n",
              "             param_grid={'C': [0.01, 0.1, 1, 10]}, scoring='recall', verbose=1)"
            ]
          },
          "metadata": {},
          "execution_count": 60
        }
      ]
    },
    {
      "cell_type": "code",
      "source": [
        "grid_search.best_estimator_"
      ],
      "metadata": {
        "colab": {
          "base_uri": "https://localhost:8080/"
        },
        "id": "K_iObjJnBmmo",
        "outputId": "bc82cd3e-29c0-4eed-ff45-e3b9ed06d1c8"
      },
      "execution_count": null,
      "outputs": [
        {
          "output_type": "execute_result",
          "data": {
            "text/plain": [
              "LogisticRegression(C=10, class_weight='balance')"
            ]
          },
          "metadata": {},
          "execution_count": 61
        }
      ]
    },
    {
      "cell_type": "markdown",
      "source": [
        "using the best estimator to make predictions on test set"
      ],
      "metadata": {
        "id": "xNeArl0vB4t5"
      }
    },
    {
      "cell_type": "code",
      "source": [
        "y_test_pred=grid_search.best_estimator_.predict(X_test_bow)"
      ],
      "metadata": {
        "id": "rEltuBYiBzVT"
      },
      "execution_count": null,
      "outputs": []
    },
    {
      "cell_type": "code",
      "source": [
        "y_train_pred = grid_search.best_estimator_.predict(X_train_bow)"
      ],
      "metadata": {
        "id": "SYk_wPaTCQ8q"
      },
      "execution_count": null,
      "outputs": []
    },
    {
      "cell_type": "code",
      "source": [
        "print(classification_report(y_test, y_test_pred))"
      ],
      "metadata": {
        "colab": {
          "base_uri": "https://localhost:8080/"
        },
        "id": "vZacY_BMCadq",
        "outputId": "fef854a8-aebb-4a7b-9e18-8d9048e2fbbb"
      },
      "execution_count": null,
      "outputs": [
        {
          "output_type": "stream",
          "name": "stdout",
          "text": [
            "              precision    recall  f1-score   support\n",
            "\n",
            "           0       0.94      1.00      0.97      8905\n",
            "           1       0.99      0.14      0.25       684\n",
            "\n",
            "    accuracy                           0.94      9589\n",
            "   macro avg       0.96      0.57      0.61      9589\n",
            "weighted avg       0.94      0.94      0.92      9589\n",
            "\n"
          ]
        }
      ]
    },
    {
      "cell_type": "markdown",
      "source": [
        "When using classification models in machine learning, there are three common metrics that we use to assess the quality of the model:\n",
        "\n",
        "1. Precision: Percentage of correct positive predictions relative to total positive predictions.\n",
        "\n",
        "2. Recall: Percentage of correct positive predictions relative to total actual positives.\n",
        "\n",
        "3. F1 Score: A weighted harmonic mean of precision and recall. The closer to 1, the better the model.\n",
        "\n",
        "has context menu\n"
      ],
      "metadata": {
        "id": "bQpnAIOWD8XI"
      }
    },
    {
      "cell_type": "code",
      "source": [],
      "metadata": {
        "id": "2HluVtsBCi0b"
      },
      "execution_count": null,
      "outputs": []
    }
  ]
}